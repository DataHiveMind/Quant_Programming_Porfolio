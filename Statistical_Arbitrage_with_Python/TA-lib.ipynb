{
 "cells": [
  {
   "cell_type": "code",
   "execution_count": null,
   "metadata": {},
   "outputs": [],
   "source": [
    "import talib\n",
    "\n",
    "class TALibWrapper:\n",
    "    def __init__(self, data):\n",
    "        self.data = data\n",
    "\n",
    "    def sma(self, period):\n",
    "        return talib.SMA(self.data, timeperiod=period)\n",
    "\n",
    "    def ema(self, period):\n",
    "        return talib.EMA(self.data, timeperiod=period)\n",
    "\n",
    "    def rsi(self, period):\n",
    "        return talib.RSI(self.data, timeperiod=period)\n",
    "\n",
    "# Example usage\n",
    "data = [1, 2, 3, 4, 5, 6, 7, 8, 9, 10]\n",
    "ta = TALibWrapper(data)\n",
    "sma_result = ta.sma(5)\n",
    "ema_result = ta.ema(10)\n",
    "rsi_result = ta.rsi(14)\n"
   ]
  }
 ],
 "metadata": {
  "language_info": {
   "name": "python"
  }
 },
 "nbformat": 4,
 "nbformat_minor": 2
}

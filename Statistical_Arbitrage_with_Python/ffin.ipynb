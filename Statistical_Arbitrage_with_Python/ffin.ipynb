{
 "cells": [
  {
   "cell_type": "code",
   "execution_count": null,
   "metadata": {},
   "outputs": [],
   "source": [
    "import ffn\n",
    "\n",
    "class MyFFNClass:\n",
    "    def __init__(self, data):\n",
    "        self.data = data\n",
    "    \n",
    "    def calculate_returns(self):\n",
    "        returns = self.data.pct_change()\n",
    "        return returns\n",
    "    \n",
    "    def calculate_cumulative_returns(self):\n",
    "        returns = self.calculate_returns()\n",
    "        cumulative_returns = (1 + returns).cumprod() - 1\n",
    "        return cumulative_returns\n"
   ]
  }
 ],
 "metadata": {
  "language_info": {
   "name": "python"
  }
 },
 "nbformat": 4,
 "nbformat_minor": 2
}

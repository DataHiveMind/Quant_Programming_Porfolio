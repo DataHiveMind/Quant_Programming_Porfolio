{
 "cells": [
  {
   "cell_type": "code",
   "execution_count": null,
   "metadata": {},
   "outputs": [],
   "source": [
    "class Stock:\n",
    "    def __init__(self, symbol):\n",
    "        self.symbol = symbol\n",
    "    \n",
    "    def buy(self, quantity):\n",
    "        print(f\"Bought {quantity} shares of {self.symbol}\")\n",
    "    \n",
    "    def sell(self, quantity):\n",
    "        print(f\"Sold {quantity} shares of {self.symbol}\")\n"
   ]
  }
 ],
 "metadata": {
  "language_info": {
   "name": "python"
  }
 },
 "nbformat": 4,
 "nbformat_minor": 2
}

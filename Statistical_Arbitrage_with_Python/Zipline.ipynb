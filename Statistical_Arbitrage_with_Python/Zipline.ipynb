{
 "cells": [
  {
   "cell_type": "code",
   "execution_count": null,
   "metadata": {},
   "outputs": [],
   "source": [
    "from zipline.api import order, record, symbol\n",
    "\n",
    "class MyAlgorithm(QCAlgorithm):\n",
    "    def Initialize(self):\n",
    "        self.SetStartDate(2010, 1, 1)  # Set the start date for backtesting\n",
    "        self.SetEndDate(2019, 12, 31)  # Set the end date for backtesting\n",
    "        self.SetCash(100000)  # Set the initial capital for backtesting\n",
    "\n",
    "        self.spy = self.AddEquity(\"SPY\")  # Add the SPY ETF as the security to trade\n",
    "\n",
    "    def OnData(self, data):\n",
    "        if self.spy.Close > 200:  # If the closing price of SPY is above 200\n",
    "            self.SetHoldings(self.spy.Symbol, 1)  # Buy 100% of SPY\n",
    "        else:\n",
    "            self.SetHoldings(self.spy.Symbol, 0)  # Sell all holdings\n",
    "\n",
    "        self.Plot(\"Strategy Equity\", self.Portfolio.TotalPortfolioValue)  # Plot the portfolio value over time\n"
   ]
  }
 ],
 "metadata": {
  "language_info": {
   "name": "python"
  }
 },
 "nbformat": 4,
 "nbformat_minor": 2
}

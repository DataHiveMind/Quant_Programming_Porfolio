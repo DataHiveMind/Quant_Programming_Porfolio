{
 "cells": [
  {
   "cell_type": "code",
   "execution_count": null,
   "metadata": {},
   "outputs": [],
   "source": [
    "%pip install tensorflow tensorflow-data-validation tensorflow-model-analysis tensorflow-transform tfx kfp apache-airflow"
   ]
  },
  {
   "cell_type": "code",
   "execution_count": null,
   "metadata": {},
   "outputs": [],
   "source": [
    "import mlflow\n",
    "import mlflow.sklearn\n",
    "from sklearn.linear_model import LinearRegression\n",
    "from sklearn.model_selection import train_test_split\n",
    "\n",
    "class StockPricePredictor:\n",
    "    def __init__(self, experiment_name, tracking_uri):\n",
    "        self.experiment_name = experiment_name\n",
    "        self.tracking_uri = tracking_uri\n",
    "        self.model = None\n",
    "\n",
    "    def train(self, X, y):\n",
    "        mlflow.set_tracking_uri(self.tracking_uri)\n",
    "        mlflow.set_experiment(self.experiment_name)\n",
    "\n",
    "        # Split the data into training and testing sets\n",
    "        X_train, X_test, y_train, y_test = train_test_split(X, y, test_size=0.2, random_state=42)\n",
    "\n",
    "        # Train a linear regression model\n",
    "        self.model = LinearRegression()\n",
    "        self.model.fit(X_train, y_train)\n",
    "\n",
    "        # Log the model parameters and metrics to MLflow\n",
    "        with mlflow.start_run():\n",
    "            mlflow.log_params({\"model\": \"Linear Regression\"})\n",
    "            mlflow.log_metric(\"train_rmse\", self.calculate_rmse(X_train, y_train))\n",
    "            mlflow.log_metric(\"test_rmse\", self.calculate_rmse(X_test, y_test))\n",
    "            mlflow.sklearn.log_model(self.model, \"model\")\n",
    "\n",
    "    def predict(self, X):\n",
    "        return self.model.predict(X)\n",
    "\n",
    "    def calculate_rmse(self, X, y):\n",
    "        predictions = self.model.predict(X)\n",
    "        mse = np.mean((predictions - y) ** 2)\n",
    "        rmse = np.sqrt(mse)\n",
    "        return rmse\n"
   ]
  }
 ],
 "metadata": {
  "language_info": {
   "name": "python"
  }
 },
 "nbformat": 4,
 "nbformat_minor": 2
}

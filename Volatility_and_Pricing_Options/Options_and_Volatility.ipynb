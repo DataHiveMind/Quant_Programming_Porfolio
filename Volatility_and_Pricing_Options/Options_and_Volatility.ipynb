{
 "cells": [
  {
   "cell_type": "code",
   "execution_count": 1,
   "metadata": {},
   "outputs": [],
   "source": [
    "# magic function to plot inline\n",
    "%matplotlib inline\n",
    "\n",
    "# python standard modules\n",
    "import time\n",
    "import datetime as dt\n",
    "from math import sqrt, pi\n",
    "\n",
    "# import numpy, pyplot and scipy\n",
    "import numpy as np\n",
    "import pandas as pd\n",
    "from pandas_datareader.yahoo.options import Options\n",
    "from pandas_datareader.yahoo.daily import YahooDailyReader\n",
    "import matplotlib as mat\n",
    "mat.style.use(\"ggplot\")\n",
    "import matplotlib.pyplot as plt\n",
    "\n",
    "# for plotting the vol surface\n",
    "from mpl_toolkits.mplot3d import Axes3D\n",
    "import scipy\n",
    "from scipy.stats import norm\n",
    "from scipy.optimize import brentq\n",
    "from scipy.interpolate import interp1d"
   ]
  },
  {
   "cell_type": "code",
   "execution_count": null,
   "metadata": {},
   "outputs": [],
   "source": [
    "# underlying stock price\n",
    "S = 45.0\n",
    "\n",
    "# series of underlying stock prices to demonstrate a payoff profile\n",
    "S_ = np.arange(35.0, 55.0, 0.01)\n",
    "\n",
    "# strike price\n",
    "K = 45.0\n",
    "\n",
    "# time to expiration (you'll see this as T-t in the equation)\n",
    "t = 164.0 / 365.0\n",
    "\n",
    "# risk free rate (there's nuance to this which we'll describe later)\n",
    "r = 0.02\n",
    "\n",
    "# volatility (latent variable which is the topic of this talk)\n",
    "vol = 0.25\n",
    "\n",
    "# black scholes prices for demonstrating trades\n",
    "atm_call_premium = 3.20\n",
    "atm_put_premium = 2.79\n",
    "otm_call_premium = 1.39\n",
    "otm_put_premium = 0.92\n",
    "\n",
    "# use a lambda for a payoff functions\n",
    "# equivelant to:\n",
    "#\n",
    "# def call_payoff(S, K):\n",
    "#   return np.maximum(S - K, 0.0)\n",
    "call_payoff = lambda S, K: np.maximum(S_ - K, 0.0)\n",
    "# equivelant to:\n",
    "#\n",
    "# def put_payoff(S, K):\n",
    "#   return np.maximum(K - S, 0.0)\n",
    "put_payoff = lambda S, K: np.maximum(K - S_, 0.0)"
   ]
  },
  {
   "cell_type": "code",
   "execution_count": null,
   "metadata": {},
   "outputs": [],
   "source": [
    "# plot the call payoff\n",
    "plt.figure(1, figsize=(7, 4))\n",
    "plt.title(\"Call option payoff at expiration\")\n",
    "plt.xlabel(\"Underlying stock price, S\")\n",
    "plt.axhline(y=0, lw=1, c=\"grey\")\n",
    "plt.plot(S_, -atm_call_premium + call_payoff(S_, K))"
   ]
  },
  {
   "cell_type": "code",
   "execution_count": null,
   "metadata": {},
   "outputs": [],
   "source": [
    "# plot the put payoff\n",
    "plt.figure(2, figsize=(7, 4))\n",
    "plt.title(\"Put option payoff at expiration\")\n",
    "plt.xlabel(\"Underlying stock price, S\")\n",
    "plt.axhline(y=0, lw=1, c=\"grey\")\n",
    "plt.plot(S_, -atm_put_premium + put_payoff(S_, K))"
   ]
  },
  {
   "cell_type": "code",
   "execution_count": null,
   "metadata": {},
   "outputs": [],
   "source": [
    "# plot a long straddle payoff\n",
    "long_straddle = call_payoff(S_, K) + put_payoff(S_, K)\n",
    "long_straddle_premium = -atm_call_premium - atm_put_premium\n",
    "plt.figure(3, figsize=(7, 4))\n",
    "plt.title(\"Long traddle payoff at expiration\")\n",
    "plt.xlabel(\"Underlying stock price, S\")\n",
    "plt.axhline(y=0, lw=1, c=\"grey\")\n",
    "plt.plot(S_, long_straddle_premium + long_straddle)"
   ]
  },
  {
   "cell_type": "code",
   "execution_count": null,
   "metadata": {},
   "outputs": [],
   "source": [
    "# plot a short straddle payoff\n",
    "short_straddle = -call_payoff(S_, K) - put_payoff(S_, K)\n",
    "short_straddle_premium = atm_call_premium + atm_put_premium\n",
    "plt.figure(4, figsize=(7, 4))\n",
    "plt.title(\"Short traddle payoff at expiration\")\n",
    "plt.xlabel(\"Underlying stock price, S\")\n",
    "plt.axhline(y=0, lw=1, c=\"grey\")\n",
    "plt.plot(S_, short_straddle_premium - long_straddle)"
   ]
  },
  {
   "cell_type": "code",
   "execution_count": null,
   "metadata": {},
   "outputs": [],
   "source": [
    "# plot a short iron condor payoff\n",
    "short_iron_condor = (\n",
    "call_payoff(S_, K + 5)\n",
    "- call_payoff(S_, K)\n",
    "- put_payoff(S_, K)\n",
    "+ put_payoff(S_, K - 5)\n",
    ")\n",
    "short_iron_condor_premium = (\n",
    "-otm_call_premium + atm_call_premium + atm_put_premium - otm_put_premium\n",
    ")\n",
    "plt.figure(5, figsize=(7, 4))\n",
    "plt.title(\"Short iron condor payoff at expiration\")\n",
    "plt.xlabel(\"Underlying stock price, S\")\n",
    "plt.axhline(y=0, lw=1, c=\"grey\")\n",
    "plt.plot(S_, short_iron_condor_premium + short_iron_condor)"
   ]
  },
  {
   "cell_type": "code",
   "execution_count": null,
   "metadata": {},
   "outputs": [],
   "source": []
  },
  {
   "cell_type": "code",
   "execution_count": null,
   "metadata": {},
   "outputs": [],
   "source": []
  },
  {
   "cell_type": "code",
   "execution_count": null,
   "metadata": {},
   "outputs": [],
   "source": []
  },
  {
   "cell_type": "code",
   "execution_count": null,
   "metadata": {},
   "outputs": [],
   "source": []
  }
 ],
 "metadata": {
  "kernelspec": {
   "display_name": "Python 3",
   "language": "python",
   "name": "python3"
  },
  "language_info": {
   "codemirror_mode": {
    "name": "ipython",
    "version": 3
   },
   "file_extension": ".py",
   "mimetype": "text/x-python",
   "name": "python",
   "nbconvert_exporter": "python",
   "pygments_lexer": "ipython3",
   "version": "3.10.11"
  }
 },
 "nbformat": 4,
 "nbformat_minor": 2
}

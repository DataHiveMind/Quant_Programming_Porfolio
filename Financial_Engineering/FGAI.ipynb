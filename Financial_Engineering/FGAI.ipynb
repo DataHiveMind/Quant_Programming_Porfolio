{
 "cells": [
  {
   "cell_type": "code",
   "execution_count": null,
   "metadata": {},
   "outputs": [],
   "source": [
    "import yfinance as yf\n",
    "import os\n",
    "import pandas as pd\n",
    "import random\n",
    "from glob import glob\n",
    "import numpy as np\n",
    "import matplotlib.pyplot as plt\n",
    "from scipy.stats import norm"
   ]
  },
  {
   "cell_type": "code",
   "execution_count": null,
   "metadata": {},
   "outputs": [],
   "source": [
    "# Getting Financial Data from the Financial Data Source\n",
    "Symbols  = [\"MSFT\", \"AMZN\", \"GOOG\"]\n",
    "\n",
    "if not os.path.exists('data'):\n",
    "    os.mkdir('data')\n",
    "\n",
    "for symbol in Symbols:\n",
    "    if not os.path.exists(f\"data/{symbol}.csv\"):\n",
    "        data = yf.download(symbol, start = \"2010-01-01\", end = \"2018-12-31\")\n",
    "        if data.size > 0:\n",
    "            data.to_csv(f\"data/{symbol}.csv\")\n",
    "        else:\n",
    "            print(\"Not Saving...\")\n",
    "\n",
    "for symbol in Symbols:\n",
    "    s = open(f\"data/{symbol}.csv\").readlines()\n",
    "    if len(s) < 10:\n",
    "        os.system(f\"rm data/{symbol}.csv\")"
   ]
  },
  {
   "cell_type": "code",
   "execution_count": null,
   "metadata": {},
   "outputs": [],
   "source": [
    "files = glob('data/*.csv')\n",
    "full_df = None\n",
    "\n",
    "for f in files:\n",
    "    print(f)\n",
    "    df = pd.read_csv(f)\n",
    "\n",
    "    symbol = f.split('/')[1].split('.')[0]\n",
    "    df['name'] = symbol\n",
    "\n",
    "    if full_df is None:\n",
    "        full_df = df\n",
    "    else:\n",
    "        full_df = full_df.append(df, ignore_index = True)"
   ]
  },
  {
   "cell_type": "code",
   "execution_count": null,
   "metadata": {},
   "outputs": [],
   "source": [
    "df = pd.read_csv(\"all_stocks_5yr.csv\")\n",
    "df.head()"
   ]
  },
  {
   "cell_type": "code",
   "execution_count": null,
   "metadata": {},
   "outputs": [],
   "source": [
    "df['Name'].unique()"
   ]
  },
  {
   "cell_type": "code",
   "execution_count": null,
   "metadata": {},
   "outputs": [],
   "source": [
    "df[df['Name'] == 'IBM'].head()"
   ]
  },
  {
   "cell_type": "code",
   "execution_count": null,
   "metadata": {},
   "outputs": [],
   "source": [
    "ibm = df[df['Name'] == 'IBM']\n",
    "ibm[\"close\"].plot()"
   ]
  },
  {
   "cell_type": "code",
   "execution_count": null,
   "metadata": {},
   "outputs": [],
   "source": [
    "df['date'].min(), df['date'].max()"
   ]
  },
  {
   "cell_type": "code",
   "execution_count": null,
   "metadata": {},
   "outputs": [],
   "source": [
    "dates = pd.date_range(df['date'].min(), df['date'].max())\n",
    "print(dates)"
   ]
  },
  {
   "cell_type": "code",
   "execution_count": null,
   "metadata": {},
   "outputs": [],
   "source": [
    "# Changing dataframe for close price\n",
    "close_price = pd.DataFrame(index = dates)\n",
    "symbols = df['Name'].unique()\n",
    "\n",
    "df2 = pd.DataFrame(data = ibm['close'].to_numpy(),\n",
    "                   index=ibm['date'], columns = ['IBM'])\n",
    "df2.head()"
   ]
  },
  {
   "cell_type": "code",
   "execution_count": null,
   "metadata": {},
   "outputs": [],
   "source": [
    "# Fill in our close prices dataframe\n",
    "for symbol in symbols:\n",
    "  df_sym = df[df['Name'] == symbol]\n",
    "  df_tmp = pd.DataFrame(data = df_sym['close'].to_numpy(),\n",
    "                   index= df_sym['date'], columns = [symbol])\n",
    "  close_price = close_price.join(df_tmp) # left-join by defualt"
   ]
  },
  {
   "cell_type": "code",
   "execution_count": null,
   "metadata": {},
   "outputs": [],
   "source": [
    "close_price.head()"
   ]
  },
  {
   "cell_type": "code",
   "execution_count": null,
   "metadata": {},
   "outputs": [],
   "source": [
    "!head sp500_close.csv"
   ]
  },
  {
   "cell_type": "code",
   "execution_count": null,
   "metadata": {},
   "outputs": [],
   "source": [
    "close = pd.read_csv('sp500_close.csv', index_col = 0, parse_dates = True)\n",
    "close.head()"
   ]
  },
  {
   "cell_type": "code",
   "execution_count": null,
   "metadata": {},
   "outputs": [],
   "source": [
    "close['IBM'].plot()"
   ]
  },
  {
   "cell_type": "code",
   "execution_count": null,
   "metadata": {},
   "outputs": [],
   "source": [
    "# How to Deal with Missing Data\n",
    "close.dropna(axis = 0, how = \"all\", inplace = True)\n",
    "close['IBM'].plot()"
   ]
  },
  {
   "cell_type": "code",
   "execution_count": null,
   "metadata": {},
   "outputs": [],
   "source": [
    "close.isna().sum()"
   ]
  },
  {
   "cell_type": "code",
   "execution_count": null,
   "metadata": {},
   "outputs": [],
   "source": [
    "# find any backwards filled stock data\n",
    "close.iloc[0,:].isna().sum()\n",
    "# fill NA values\n",
    "close.fillna(method = 'ffill', inplace = True)"
   ]
  },
  {
   "cell_type": "code",
   "execution_count": null,
   "metadata": {},
   "outputs": [],
   "source": [
    "close.isna().sum().sum()"
   ]
  },
  {
   "cell_type": "code",
   "execution_count": null,
   "metadata": {},
   "outputs": [],
   "source": [
    "close.plot(legend = False, figsize=(10,10))"
   ]
  },
  {
   "cell_type": "code",
   "execution_count": null,
   "metadata": {},
   "outputs": [],
   "source": [
    "# normalized data\n",
    "close_norm = close / close.iloc[0]\n",
    "close_norm.plot(legend = False, figsize = (10,10))"
   ]
  },
  {
   "cell_type": "code",
   "execution_count": null,
   "metadata": {},
   "outputs": [],
   "source": [
    "# Adjusted Close, Using sp500sub.csv if possible\n",
    "df = pd.read_csv('sp500sub.csv', index_col = 'Date', parse_dates = True)\n",
    "df.head()\n",
    "\n",
    "goog = df[df[\"Name\"] ==\"GOOG\"]\n",
    "goog[['Close', 'Adj Close']].plot(figsize = (10,10))\n",
    "\n",
    "aapl = df[df['Name'] == 'AAPL']\n",
    "aapl[['Close', 'Adj Close']].plot(figsize = (10,10))"
   ]
  },
  {
   "cell_type": "code",
   "execution_count": null,
   "metadata": {},
   "outputs": [],
   "source": [
    "# Returns\n",
    "data = pd.read_csv('all_stocks_5yr.csv', parse_dates = True)\n",
    "sbux = data[data[\"Name\"]=='SBUX'].copy()\n",
    "sbux.head()\n",
    "sbux['close'].plot()\n",
    "\n",
    "# Calulate Return\n",
    "sbux['prev_close'] = sbux['close'].shift(1)\n",
    "sbux.head()\n",
    "\n",
    "sbux['return'] = sbux[\"close\"]/sbux['prev_close']-1\n",
    "sbux.head()\n",
    "\n",
    "sbux['return2'] = sbux['close'].pct_change(1)\n",
    "sbux.head()\n",
    "\n",
    "sbux[\"return\"].hist(bins = 100)\n",
    "\n",
    "sbux['log_return'] =np.log(sbux['return']+1)\n",
    "sbux.head()\n",
    "\n",
    "sbux['log_return'].hist(bins = 1000)\n",
    "\n",
    "sbux['log_return'].mean(), sbux['log_return'].std()"
   ]
  },
  {
   "cell_type": "code",
   "execution_count": null,
   "metadata": {},
   "outputs": [],
   "source": [
    "# QQ-Plot\n",
    "x_list = np.linspace(sbux['return'].min(),sbux['return'].max(),100)\n",
    "y_list = norm.pdf(x_list, loc = sbux['return'].mean(),\n",
    "                  scale = sbux['return'].std())\n",
    "\n",
    "plt.plot(x_list, y_list)\n",
    "sbux['return'].hist(bins = 100, density = True)"
   ]
  },
  {
   "cell_type": "code",
   "execution_count": null,
   "metadata": {},
   "outputs": [],
   "source": [
    "# T-Distribution"
   ]
  },
  {
   "cell_type": "code",
   "execution_count": null,
   "metadata": {},
   "outputs": [],
   "source": [
    "# Conifdence Intrevals"
   ]
  },
  {
   "cell_type": "code",
   "execution_count": null,
   "metadata": {},
   "outputs": [],
   "source": [
    "# Statistical Testing"
   ]
  },
  {
   "cell_type": "code",
   "execution_count": null,
   "metadata": {},
   "outputs": [],
   "source": [
    "# Covariance and Correlation"
   ]
  },
  {
   "cell_type": "code",
   "execution_count": null,
   "metadata": {},
   "outputs": [],
   "source": [
    "# Alpha and Beta"
   ]
  },
  {
   "cell_type": "code",
   "execution_count": null,
   "metadata": {},
   "outputs": [],
   "source": [
    "# Mixture of Gaussians"
   ]
  },
  {
   "cell_type": "code",
   "execution_count": null,
   "metadata": {},
   "outputs": [],
   "source": [
    "# Price Simulation\n"
   ]
  }
 ],
 "metadata": {
  "language_info": {
   "name": "python"
  }
 },
 "nbformat": 4,
 "nbformat_minor": 2
}

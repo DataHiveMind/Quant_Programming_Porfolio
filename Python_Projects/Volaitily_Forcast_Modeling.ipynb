{
 "cells": [
  {
   "cell_type": "code",
   "execution_count": null,
   "metadata": {},
   "outputs": [],
   "source": [
    "import pandas as pd\n",
    "import numpy as np\n",
    "import arch\n",
    "import yfinance as yf\n",
    "\n",
    "# Load historical price data\n",
    "price_data = yf.download('AAPL', start='2020-01-01', end='2021-01-01')\n",
    "\n",
    "# Calculate log returns\n",
    "returns = np.log(price_data['Close']).diff().dropna()\n",
    "\n",
    "# Fit GARCH model\n",
    "model = arch.arch_model(returns, vol='Garch', p=1, q=1)\n",
    "model_fit = model.fit()\n",
    "\n",
    "# Predict volatility\n",
    "volatility_forecast = model_fit.forecast(horizon=1)\n",
    "\n",
    "# Compare predicted volatility against realized volatility\n",
    "realized_volatility = returns.std()\n",
    "predicted_volatility = volatility_forecast.variance.values[-1, 0] ** 0.5\n",
    "\n",
    "# Perform sensitivity analysis on model parameters\n",
    "parameter_sensitivity = model_fit.conditional_volatility.diff().dropna()\n",
    "\n"
   ]
  },
  {
   "cell_type": "code",
   "execution_count": null,
   "metadata": {},
   "outputs": [],
   "source": [
    "%pip install arch\n",
    "import pandas as pd\n",
    "import numpy as np\n",
    "import arch\n",
    "import yfinance as yf\n",
    "\n",
    "class StockVolatility:\n",
    "    def __init__(self, price_data_file):\n",
    "        self.price_data = pd.read_csv(price_data_file)\n",
    "        self.returns = None\n",
    "        self.model = None\n",
    "        self.model_fit = None\n",
    "        self.volatility_forecast = None\n",
    "        self.realized_volatility = None\n",
    "        self.predicted_volatility = None\n",
    "        self.parameter_sensitivity = None\n",
    "\n",
    "    def calculate_returns(self):\n",
    "        self.returns = np.log(self.price_data['Close']).diff().dropna()\n",
    "\n",
    "    def fit_garch_model(self):\n",
    "        self.model = arch.arch_model(self.returns, vol='Garch', p=1, q=1)\n",
    "        self.model_fit = self.model.fit()\n",
    "\n",
    "    def forecast_volatility(self):\n",
    "        self.volatility_forecast = self.model_fit.forecast(horizon=1)\n",
    "\n",
    "    def compare_volatility(self):\n",
    "        self.realized_volatility = self.returns.std()\n",
    "        self.predicted_volatility = self.volatility_forecast.variance.values[-1, 0] ** 0.5\n",
    "\n",
    "    def perform_sensitivity_analysis(self):\n",
    "        self.parameter_sensitivity = self.model_fit.conditional_volatility.diff().dropna()\n",
    "\n",
    "# Usage example:\n",
    "data = yf.download('AAPL', start='2020-01-01', end='2021-01-01')\n",
    "stock = StockVolatility(data)\n",
    "stock.calculate_returns()\n",
    "stock.fit_garch_model()\n",
    "stock.forecast_volatility()\n",
    "stock.compare_volatility()\n",
    "stock.perform_sensitivity_analysis()\n"
   ]
  }
 ],
 "metadata": {
  "kernelspec": {
   "display_name": "Python 3",
   "language": "python",
   "name": "python3"
  },
  "language_info": {
   "codemirror_mode": {
    "name": "ipython",
    "version": 3
   },
   "file_extension": ".py",
   "mimetype": "text/x-python",
   "name": "python",
   "nbconvert_exporter": "python",
   "pygments_lexer": "ipython3",
   "version": "3.11.4"
  }
 },
 "nbformat": 4,
 "nbformat_minor": 2
}

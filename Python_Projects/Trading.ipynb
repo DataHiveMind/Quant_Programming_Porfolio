{
 "cells": [
  {
   "cell_type": "code",
   "execution_count": null,
   "metadata": {},
   "outputs": [],
   "source": [
    "%pip install pandas \n",
    "%pip install yfinance\n",
    "%pip install statsmodels"
   ]
  },
  {
   "cell_type": "code",
   "execution_count": null,
   "metadata": {},
   "outputs": [],
   "source": [
    "import pandas as pd\n",
    "import statsmodels.api as sm\n",
    "import yfinance as yf\n",
    "\n",
    "# Load historical price data for two stocks\n",
    "data1 = yf.download('AAPL', start='2020-01-01', end='2021-01-01')\n",
    "data2 = yf.download('MSFT', start='2020-01-01', end='2021-01-01')\n",
    "\n",
    "\n",
    "# Perform cointegration analysis\n",
    "result = sm.tsa.coint(data1['Close'], data2['Close'])\n",
    "\n",
    "# Print the cointegration test statistic and p-value\n",
    "print('Cointegration Test Statistic:', result[0])\n",
    "print('P-value:', result[1])"
   ]
  }
 ],
 "metadata": {
  "kernelspec": {
   "display_name": "Python 3",
   "language": "python",
   "name": "python3"
  },
  "language_info": {
   "codemirror_mode": {
    "name": "ipython",
    "version": 3
   },
   "file_extension": ".py",
   "mimetype": "text/x-python",
   "name": "python",
   "nbconvert_exporter": "python",
   "pygments_lexer": "ipython3",
   "version": "3.11.4"
  }
 },
 "nbformat": 4,
 "nbformat_minor": 2
}

{
 "cells": [
  {
   "cell_type": "code",
   "execution_count": null,
   "metadata": {},
   "outputs": [],
   "source": [
    "import pandas as pd\n",
    "import statsmodels.api as sm\n",
    "\n",
    "class FactorModel:\n",
    "    def __init__(self, factors, returns):\n",
    "        self.factors = factors\n",
    "        self.returns = returns\n",
    "        self.loadings = None\n",
    "        self.intercepts = None\n",
    "\n",
    "    def estimate_loadings(self):\n",
    "        X = sm.add_constant(self.factors)\n",
    "        model = sm.OLS(self.returns, X)\n",
    "        results = model.fit()\n",
    "        self.loadings = results.params[1:]\n",
    "        self.intercepts = results.params[0]\n",
    "\n",
    "    def assess_significance(self):\n",
    "        X = sm.add_constant(self.factors)\n",
    "        model = sm.OLS(self.returns, X)\n",
    "        results = model.fit()\n",
    "        p_values = results.pvalues[1:]\n",
    "        return p_values\n",
    "\n",
    "    def test_stability(self, new_factors):\n",
    "        X = sm.add_constant(new_factors)\n",
    "        model = sm.OLS(self.returns, X)\n",
    "        results = model.fit()\n",
    "        new_loadings = results.params[1:]\n",
    "        return new_loadings\n"
   ]
  }
 ],
 "metadata": {
  "language_info": {
   "name": "python"
  }
 },
 "nbformat": 4,
 "nbformat_minor": 2
}

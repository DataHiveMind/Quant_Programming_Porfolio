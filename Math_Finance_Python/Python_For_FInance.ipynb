{
 "cells": [
  {
   "cell_type": "code",
   "execution_count": null,
   "metadata": {},
   "outputs": [],
   "source": [
    "# Import Libraries\n",
    "import numpy as np # linear Algebra\n",
    "import pandas as pd # Data Processing\n",
    "import seaborn as sns\n",
    "import matplotlib.pyplot as plt\n",
    "sns.set_theme(style = 'white', color_codes = True)\n",
    "import warnings\n",
    "warnings.filterwarnings('ignore')\n",
    "import os\n",
    "from scipy.stats import norm\n",
    "from scipy.stats import lognorm as log\n",
    "import pylab as pl"
   ]
  },
  {
   "cell_type": "code",
   "execution_count": null,
   "metadata": {},
   "outputs": [],
   "source": [
    "# Basic Statistics\n",
    "df = pd.read_csv(\"data.csv\")\n",
    "df.info()\n",
    "df.describe()\n",
    "sns.boxplot(x = \"Species\", y = \"PetalLengthCm\", data = df)"
   ]
  },
  {
   "cell_type": "code",
   "execution_count": null,
   "metadata": {},
   "outputs": [],
   "source": [
    "#Fb(face bond), RB(Rate), tb(time of Maturity)\n",
    "def VFaceval(FB,rb,tb):\n",
    "    return FB/((1+rb)**tb)\n",
    "\n",
    "def VCouponVal(c,i,n):\n",
    "    ans = 0\n",
    "    for i in range(0,n):\n",
    "        ans += (c / ((1+i)**n))\n",
    "        i += 1\n",
    "        print(i)\n",
    "    print(\"Coupon Payment: \", ans)\n",
    "\n",
    "# Bond Valution\n",
    "VFaceval(10000, 0.015, 4)\n",
    "VCouponVal(25, 0.015, 4)"
   ]
  },
  {
   "cell_type": "code",
   "execution_count": null,
   "metadata": {},
   "outputs": [],
   "source": [
    "def Exp_and_Log():\n",
    "    x = np.linspace(-1, 2, 200)\n",
    "    y = np.exp(x) # Model build\n",
    "    plt.figure()\n",
    "    plt.plot(x,y)\n",
    "    plt.xlabel(\"x\")\n",
    "    plt.ylabel(\"y = f(x)\")\n",
    "    plt.show()\n",
    "\n",
    "# Exp and Log Function\n",
    "Exp_and_Log()"
   ]
  },
  {
   "cell_type": "code",
   "execution_count": null,
   "metadata": {},
   "outputs": [],
   "source": [
    "def Log_Normal():\n",
    "    stddev = 0.0\n",
    "    mean = 0.4\n",
    "    dist = log([stddev], loc = mean)\n",
    "\n",
    "    x = np.linspace(0, 6, 200)\n",
    "    pl.plot(x, dist.pdf(x))\n",
    "    pl.plot(x, dist.cdf(x))\n",
    "\n",
    "    mu, sigma = 3, 1 # mean and std deviation\n",
    "    s = np.random.log(mu, sigma, 1000)\n",
    "    count, bins, ignored = plt.hist(s, 100, denisty = True, align = \"mid\")\n",
    "    x = np.linspace(min(bins), max(bins), 10000)\n",
    "    pdf = (np.exp(-(np.log(x) - mu)**2)/2*sigma**2)/(x*sigma*np.sqrt(2*np.pi))\n",
    "\n",
    "    plt.plot(x, pdf, linewidth = 2, color = 'r')\n",
    "    plt.axis('tight')\n",
    "    plt.show()\n",
    "\n",
    "# Lognormal Distributions\n",
    "Log_Normal()"
   ]
  },
  {
   "cell_type": "code",
   "execution_count": null,
   "metadata": {},
   "outputs": [],
   "source": [
    "def Options():\n",
    "    # Options payoff modelling\n",
    "    optype = input(\"Rnter the option type (C/P): \")\n",
    "    k = int(input(\"Enter the exercise price: \"))\n",
    "    s = int(input(\"Enter the stock price: \"))\n",
    "\n",
    "    if optype == \"C\":\n",
    "        payoff = max(0, (s-k)) # Make Money when Stock goes Up\n",
    "    elif optype == \"P\":\n",
    "        payoff = max(0, (k-s)) # Make Money when Stock goes Down\n",
    "    print(\"Payoff is: \", payoff)\n",
    "\n",
    "# Options Payoff\n",
    "Options()"
   ]
  },
  {
   "cell_type": "code",
   "execution_count": null,
   "metadata": {},
   "outputs": [],
   "source": [
    "def BS_CALL(S, K, T, R, sigma):\n",
    "    # Stock price(S), Strike price(K),\n",
    "    # Risk free rate(R), Volatility(sigma), Time left til maturity(T)\n",
    "    N = norm.cdf\n",
    "    d1 = np.log(S/K) + (R + sigma**2/2)*T / (sigma * np.sqrt(T))\n",
    "    d2 = d1 - sigma * np.sqrt(T)\n",
    "    return S-N(d1) - K * np.exp(-R * T)* N(d2)"
   ]
  },
  {
   "cell_type": "code",
   "execution_count": null,
   "metadata": {},
   "outputs": [],
   "source": [
    "def BS_PUT(S, K, T, R, sigma):\n",
    "    # Stock price(S), Strike price(K),\n",
    "    # Risk free rate(R), Volatility(sigma), Time left til maturity(T)\n",
    "    N = norm.cdf\n",
    "    d1 = np.log(S/K) + (R + sigma**2/2)*T / (sigma * np.sqrt(T))\n",
    "    d2 = d1 - sigma * np.sqrt(T)\n",
    "    return K * np.exp(-R * T)* N(-d2) - S * N(-d1)"
   ]
  },
  {
   "cell_type": "code",
   "execution_count": null,
   "metadata": {},
   "outputs": [],
   "source": [
    "def Black_Scholes_Plot(k: int, r: float, t: int, sigma: float):\n",
    "    # Black Scholes Model\n",
    "    s = np.arange(60,140,0.1) # array range\n",
    "\n",
    "    calls = [BS_CALL(s, k, t, r, sigma) for s in s] # array of series of option value\n",
    "    puts = [BS_PUT(s, k, t, r, sigma) for s in s]\n",
    "\n",
    "    plt.plot(s, calls, label = \"Call value\")\n",
    "    plt.plot(s, puts, label = \"Put value\")\n",
    "    plt.xlabel(\"Stock Price\")\n",
    "    plt.ylabel(\"Option Value\")\n",
    "    plt.title(\"Impact of BSM of S\")\n",
    "    plt.legend()\n",
    "\n",
    "# Black Scholes Model\n",
    "k = int(input(\"Enter Strike Price: \"))\n",
    "r = float(input(\"Enter Risk Free Rate: \"))\n",
    "t = int(input(\"Enter Time: \"))\n",
    "sigma = float(input(\"Enter Volatility: \"))\n",
    "Black_Scholes_Plot(k,r,t,sigma)"
   ]
  },
  {
   "cell_type": "code",
   "execution_count": null,
   "metadata": {},
   "outputs": [],
   "source": [
    "def BSM_Dividend():\n",
    "    pass"
   ]
  }
 ],
 "metadata": {
  "language_info": {
   "name": "python"
  }
 },
 "nbformat": 4,
 "nbformat_minor": 2
}

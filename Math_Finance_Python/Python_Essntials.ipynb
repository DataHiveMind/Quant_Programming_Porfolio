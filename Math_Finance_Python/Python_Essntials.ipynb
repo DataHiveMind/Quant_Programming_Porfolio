{
 "cells": [
  {
   "cell_type": "code",
   "execution_count": null,
   "metadata": {},
   "outputs": [],
   "source": [
    "num = int(input(\"Enter a Number: \"))\n",
    "def Recursion1(n : int) -> int:   # Factorial by iteration\n",
    "    result = 1\n",
    "    while(n > 1):\n",
    "        result = result * n\n",
    "        n -= 1\n",
    "    return result\n",
    "# Recursion1\n",
    "print(\"Recursion1 Result: \", Recursion1(num))"
   ]
  },
  {
   "cell_type": "code",
   "execution_count": null,
   "metadata": {},
   "outputs": [],
   "source": [
    "num = int(input(\"Enter a Number: \"))\n",
    "def factR(n : int) -> int:  # Factorial by recursion\n",
    "    if n == 1:\n",
    "        return n\n",
    "    else:\n",
    "        return n * factR(n-1)   # Recursion - calling factR\n",
    "# factR\n",
    "print(\"FactR Result: \", factR(num))"
   ]
  },
  {
   "cell_type": "code",
   "execution_count": null,
   "metadata": {},
   "outputs": [],
   "source": [
    "def fib(n : int) -> int: # Fibonacci numbers\n",
    "    if n == 0 or n == 1:\n",
    "        return 1\n",
    "    else:\n",
    "        return fib(n - 1) + fib(n - 2)  # Recursion 1\n",
    "# fib\n",
    "print(\"Fib Result: \", fib(num))"
   ]
  },
  {
   "cell_type": "code",
   "execution_count": null,
   "metadata": {},
   "outputs": [],
   "source": [
    "\n",
    "def testFib(n : int):\n",
    "    for i in range(n+1):\n",
    "        print(\"FIb of \", i, '=', fib(i) ) # Recursion 2\n",
    "# testFib\n",
    "print(\"TestFib Result: \", testFib(num))"
   ]
  }
 ],
 "metadata": {
  "language_info": {
   "name": "python"
  }
 },
 "nbformat": 4,
 "nbformat_minor": 2
}
